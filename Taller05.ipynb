{
  "nbformat": 4,
  "nbformat_minor": 0,
  "metadata": {
    "kernelspec": {
      "display_name": "Python 3",
      "language": "python",
      "name": "python3"
    },
    "language_info": {
      "codemirror_mode": {
        "name": "ipython",
        "version": 3
      },
      "file_extension": ".py",
      "mimetype": "text/x-python",
      "name": "python",
      "nbconvert_exporter": "python",
      "pygments_lexer": "ipython3",
      "version": "3.7.7"
    },
    "colab": {
      "name": "Taller05.ipynb",
      "provenance": [],
      "collapsed_sections": []
    }
  },
  "cells": [
    {
      "cell_type": "markdown",
      "metadata": {
        "id": "x3AJAG7RN1sN"
      },
      "source": [
        "<h1 align=\"center\">Taller 05 - Instrucciones Repetitivas de Python</h1>"
      ]
    },
    {
      "cell_type": "code",
      "metadata": {
        "id": "D72-9_jUN1sQ"
      },
      "source": [
        ""
      ],
      "execution_count": null,
      "outputs": []
    },
    {
      "cell_type": "markdown",
      "metadata": {
        "id": "j4nct1guN1sQ"
      },
      "source": [
        "## Ejercicio 01\n",
        "\n",
        "Dado la altura de $n$ estudiantes de la universidad, hallar la mayor de todas las alturas."
      ]
    },
    {
      "cell_type": "code",
      "metadata": {
        "id": "GdufH9aCN1sR"
      },
      "source": [
        "# Programa principal\n"
      ],
      "execution_count": null,
      "outputs": []
    },
    {
      "cell_type": "markdown",
      "metadata": {
        "id": "mFIFow8vN1sR"
      },
      "source": [
        "---"
      ]
    },
    {
      "cell_type": "markdown",
      "metadata": {
        "id": "BjZClg0ON1sS"
      },
      "source": [
        "## Ejercicio 02\n",
        "\n",
        "A partir el nombre, población y departamento de los diversos municipio de Colombia, encontrar el nombre del municipio menos poblado del pais. Como no sabemos cuántos municipios son, el proceso debe finalizar cuando el nombre sea vacío o cuando la población sea cero o negativa."
      ]
    },
    {
      "cell_type": "code",
      "metadata": {
        "id": "OgtFMIdZN1sS"
      },
      "source": [
        "# Programa principal\n"
      ],
      "execution_count": null,
      "outputs": []
    },
    {
      "cell_type": "markdown",
      "metadata": {
        "id": "7u2txyQYN1sS"
      },
      "source": [
        "---"
      ]
    },
    {
      "cell_type": "markdown",
      "metadata": {
        "id": "plSlwAF7N1sS"
      },
      "source": [
        "## Ejercicio 03\n",
        "\n",
        "Vamos a hallar la ciudad más lejana de Bogotá. Para ello desarrolle las siguiente tareas:\n",
        "\n",
        "* Escribir una función que halle la distancia entre una ciudad y Bogotá. Esta distancia se obtiene a partir de la latitud de la ciudad ($l$) y la longitud de la ciudad ($h$) a partir de la siguiente fórmula:\n",
        "\n",
        "$$\n",
        "\\sqrt{l^2 + h^2}\n",
        "$$\n",
        "\n",
        "* Escribir el programa principal que lea el nombre, latitud y longitud de varias ciudades alrededor del mundo, y que muestre el nombre y la distancia de aquella ciudad que está más lejos de Bogotá. Use la función anterior."
      ]
    },
    {
      "cell_type": "code",
      "metadata": {
        "id": "IoF5St_zN1sT"
      },
      "source": [
        "# Definición de la función ...\n",
        "def distancia_a_Bogota() -> ...:\n",
        "    ...\n",
        "\n",
        "# Programa principal\n"
      ],
      "execution_count": null,
      "outputs": []
    },
    {
      "cell_type": "markdown",
      "metadata": {
        "id": "0XPchgdiN1sT"
      },
      "source": [
        "---"
      ]
    },
    {
      "cell_type": "markdown",
      "metadata": {
        "id": "ixYRFEt_N1sT"
      },
      "source": [
        "## Ejercicio 04\n",
        "\n",
        "Queremos averiguar cual es el nombre del equipo cambión de La Liga de Fútbol Española. Para ello, realice las siguiente tareas:\n",
        "    \n",
        "* Escriba una función en Python que reciba el número de partidos ganados y el número de partidos empatados que tuvo un equipo en el campeonato y que retorne el número de puntos que hizo el equipo. Tenga en cuenta que por cada partido ganado se obtienen 3 puntos y por cada partido empatado se obtiene 1 punto.\n",
        "* Ahora escribamos un programa que nos ayude a encontrar el campeón. Lo primero que debe solicitar el programa es el número de equipos que hay en la Liga. Luego, para cada equipo hay que preguntar el número de partidos ganados y el número de partidos empatados, y calcular (usando la función anterior) e imprimir el número de puntos que realizó el equipo. También halle el nombre del campeón, es decir, el equipo que hizo la mayor cantidad de puntos."
      ]
    },
    {
      "cell_type": "code",
      "metadata": {
        "id": "wnzCTOfpN1sU"
      },
      "source": [
        "# Definición de la función\n",
        "def hallar_puntos()\n",
        "    ...\n",
        "    \n",
        "# Programa principal\n"
      ],
      "execution_count": null,
      "outputs": []
    },
    {
      "cell_type": "markdown",
      "metadata": {
        "id": "XknN-wK_N1sU"
      },
      "source": [
        "---"
      ]
    },
    {
      "cell_type": "markdown",
      "metadata": {
        "id": "3tNjSx_LN1sU"
      },
      "source": [
        "## Ejercicio 05\n",
        "\n",
        "Una persona es considerada obesa si su indice de masa corporal es igual o superior a 30.0; este índice se obtiene con la siguiente fórmula:\n",
        "\n",
        "$$\n",
        "\\textrm{IMC} = \\frac{m}{h^2}\n",
        "$$\n",
        "\n",
        "donde $m$ es el peso de la persona en kilos, y h es la altura de la persona en metros. Vamos a escribir un programa que encuentre el nombre de la persona más obesa de una empresa. Para ello llevemos a cabo las siguientes tareas:\n",
        "\n",
        "* Escriba una función que halle el índice de masa corporal de una persona a partir del peso y la altura de la persona.\n",
        "* Escriba el programa en Python que pregunte cuántas personas hay en la empresa, y luego pregunte el nombre, peso y altura de cada una de las personas. Debe calcular (usando la función anterior) e imprimir el índice de masa corporal de cada persona. Adicionalmente debe hallar el nombre, peso y altura, de la persona más obesa de todas las personas de la emrpes."
      ]
    },
    {
      "cell_type": "code",
      "metadata": {
        "id": "MxBjd4xnN1sU"
      },
      "source": [
        "# Definición de la función\n",
        "def IMC() \n",
        "    ...\n",
        "    \n",
        "# Programa principal\n"
      ],
      "execution_count": null,
      "outputs": []
    },
    {
      "cell_type": "markdown",
      "metadata": {
        "id": "dkK2KedlN1sV"
      },
      "source": [
        "---"
      ]
    },
    {
      "cell_type": "markdown",
      "metadata": {
        "id": "LFhaNtDGN1sV"
      },
      "source": [
        "## Ejercicio 06\n",
        "\n",
        "Se realizó una investigación en algunas discotecas y sitios de diversión de la ciudad para determinar el consumo de licor entre las personas encuestadas; se preguntó a cada uno de los encuestados lo siguiente:\n",
        "\n",
        "1. Consume licor (Si o No)\n",
        "2. Licor prefereido (1- Aguardiante, 2-Ron, 3-Cerveza, 4-Tequila, 5-Whisky, 6-Otro)\n",
        "3. Edad\n",
        "4. Sexo\n",
        "\n",
        "Desarrollar un programa en Python que procese dicha información y obtenga los siguiente resultados:\n",
        "\n",
        "* Total de personas encuestadas que consumen licor.\n",
        "* Total de mujeres menores de edad\n",
        "* Total de hombres que no consumen aguardiente y que tienen entre 20 y 25 años de edad.\n",
        "* Promedio de edad de las personas que consumen cerveza.\n",
        "* Porcentaje de personas que consumen whisky en relación con el total encuestado.\n",
        "\n",
        "Para finalizar la encuesta hay que preguntar después de cada encuesta si desea seguir o no con la investigación.\n",
        "    \n",
        "\n"
      ]
    },
    {
      "cell_type": "code",
      "metadata": {
        "id": "HDnYt-A3N1sV"
      },
      "source": [
        "# Programa principal\n"
      ],
      "execution_count": null,
      "outputs": []
    },
    {
      "cell_type": "markdown",
      "metadata": {
        "id": "LB8RAI7HN1sV"
      },
      "source": [
        "---"
      ]
    },
    {
      "cell_type": "markdown",
      "metadata": {
        "id": "PNvDxSPsN1sW"
      },
      "source": [
        "## Ejercicio 07\n",
        "\n",
        "Dada una serie indeterminada de números enteros positivos se desea construir un algoritmo que calcule:\n",
        "\n",
        "* El mayor valor ingresado de la serie\n",
        "* El menor valor ingresado de la serie\n",
        "* La cantidad de valores impres ingresados\n",
        "* La cantidad de valores pares ingresados\n",
        "* El promedio de todos los valores ingresados\n",
        "\n",
        "Para finalizar el programa, el usuario debe ingresar un cero o un número negativo.\n"
      ]
    },
    {
      "cell_type": "code",
      "metadata": {
        "id": "gs6qjmR2N1sW"
      },
      "source": [
        "# Programa Principal para el ejercicio 07\n"
      ],
      "execution_count": null,
      "outputs": []
    },
    {
      "cell_type": "markdown",
      "metadata": {
        "id": "8qw9-wS_N1sW"
      },
      "source": [
        "---"
      ]
    },
    {
      "cell_type": "markdown",
      "metadata": {
        "id": "5OYJtPOkN1sW"
      },
      "source": [
        "## Ejercicio 08\n",
        "\n",
        "La Facultad de Ingeniería ha efectuado una prueba de admisión a un grupo de N estudiantes y, suponiendo que de cada prueba solicitamos el nombre del aspirante y el puntaje final, se le pide que usted elabore un programa que obtenga los siguientes resultados:\n",
        "\n",
        "* Nombre del estudiante con el puntaje más alto\n",
        "* Nombre del estudiante con el puntaje más bajo\n",
        "* Puntaje máximo obtenido\n",
        "* Puntaje mínimo obtenido\n",
        "* Promedio de todos los puntajes obtenidos\n",
        "* Porcentaje de estudiantes con puntajes inferiores al promedio\n",
        "* Porcentaje de estudiantes con puntajes superiores al promedio"
      ]
    },
    {
      "cell_type": "code",
      "metadata": {
        "id": "nmcJ7a_XN1sW"
      },
      "source": [
        "# Programa principal para el ejercicio 08\n"
      ],
      "execution_count": null,
      "outputs": []
    },
    {
      "cell_type": "markdown",
      "metadata": {
        "id": "NU_A0R7HP5EI"
      },
      "source": [
        "---\r\n",
        "\r\n",
        "### Ejercicio 09\r\n",
        "\r\n",
        "Un restaurante vende 3 platos: arepas (a \\$ 1,000 cada una), perros calientes (a \\$ 5,000 cada uno) y hamburguesas (a \\$ 8,000 cada una). \r\n",
        "\r\n",
        "* Escriba una función que reciba el nombre de un plato y la cantidad de platos que compró una persona y que retorne cuánto debe pagar la persona para comprar esa cantidad de platos.\r\n",
        "\r\n",
        "* Escriba un programa que le pregunte al dueño de la tienda cada una de las ventas que realizó en un día (una venta consiste del nombre del producto y la cantidad de productos comprados) y que halle:\r\n",
        "  - Valor a pagar por cada venta realizada (use la función desarrollada en el punto anterior).\r\n",
        "  - Cantidad de veces que se vendieron hamburguesas\r\n",
        "  - Cantidad total de perros calientes vendidos\r\n",
        "  - Promedio de la cantidad de arepas en todas las ventas realziadas\r\n",
        "\r\n",
        "Para finalizar el programa se debe ingresar un número de platos igual a cero o negativo."
      ]
    },
    {
      "cell_type": "code",
      "metadata": {
        "id": "KvOW_rwPUi7B"
      },
      "source": [
        "# Función\r\n",
        "def ...\r\n",
        "\r\n",
        "# Programa\r\n"
      ],
      "execution_count": null,
      "outputs": []
    }
  ]
}